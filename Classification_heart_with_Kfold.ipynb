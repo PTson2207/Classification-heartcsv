{
  "nbformat": 4,
  "nbformat_minor": 0,
  "metadata": {
    "colab": {
      "name": "Classification heart with Kfold.ipynb",
      "provenance": [],
      "mount_file_id": "1r7TDfLdaEgpbrvdBm35fUaplYQyfvwFX",
      "authorship_tag": "ABX9TyOEMIYVcVlYQ/ADy0M/UMgl",
      "include_colab_link": true
    },
    "kernelspec": {
      "name": "python3",
      "display_name": "Python 3"
    }
  },
  "cells": [
    {
      "cell_type": "markdown",
      "metadata": {
        "id": "view-in-github",
        "colab_type": "text"
      },
      "source": [
        "<a href=\"https://colab.research.google.com/github/PTson2207/Classification-heartcsv/blob/main/Classification_heart_with_Kfold.ipynb\" target=\"_parent\"><img src=\"https://colab.research.google.com/assets/colab-badge.svg\" alt=\"Open In Colab\"/></a>"
      ]
    },
    {
      "cell_type": "code",
      "metadata": {
        "id": "mZzNKrcKgrpO"
      },
      "source": [
        "import pandas as pd\r\n",
        "import numpy as np\r\n",
        "import matplotlib.pyplot as plt"
      ],
      "execution_count": 1,
      "outputs": []
    },
    {
      "cell_type": "code",
      "metadata": {
        "colab": {
          "base_uri": "https://localhost:8080/",
          "height": 204
        },
        "id": "nRYR2rFvhzg8",
        "outputId": "04c86be2-2bd9-4db4-c45c-aea8db934e99"
      },
      "source": [
        "df = pd.read_csv(\"/content/drive/MyDrive/DataVIZ/DatViz/heart.csv\")\r\n",
        "df.head()"
      ],
      "execution_count": 2,
      "outputs": [
        {
          "output_type": "execute_result",
          "data": {
            "text/html": [
              "<div>\n",
              "<style scoped>\n",
              "    .dataframe tbody tr th:only-of-type {\n",
              "        vertical-align: middle;\n",
              "    }\n",
              "\n",
              "    .dataframe tbody tr th {\n",
              "        vertical-align: top;\n",
              "    }\n",
              "\n",
              "    .dataframe thead th {\n",
              "        text-align: right;\n",
              "    }\n",
              "</style>\n",
              "<table border=\"1\" class=\"dataframe\">\n",
              "  <thead>\n",
              "    <tr style=\"text-align: right;\">\n",
              "      <th></th>\n",
              "      <th>age</th>\n",
              "      <th>sex</th>\n",
              "      <th>cp</th>\n",
              "      <th>trestbps</th>\n",
              "      <th>chol</th>\n",
              "      <th>fbs</th>\n",
              "      <th>restecg</th>\n",
              "      <th>thalach</th>\n",
              "      <th>exang</th>\n",
              "      <th>oldpeak</th>\n",
              "      <th>slope</th>\n",
              "      <th>ca</th>\n",
              "      <th>thal</th>\n",
              "      <th>target</th>\n",
              "    </tr>\n",
              "  </thead>\n",
              "  <tbody>\n",
              "    <tr>\n",
              "      <th>0</th>\n",
              "      <td>63</td>\n",
              "      <td>1</td>\n",
              "      <td>3</td>\n",
              "      <td>145</td>\n",
              "      <td>233</td>\n",
              "      <td>1</td>\n",
              "      <td>0</td>\n",
              "      <td>150</td>\n",
              "      <td>0</td>\n",
              "      <td>2.3</td>\n",
              "      <td>0</td>\n",
              "      <td>0</td>\n",
              "      <td>1</td>\n",
              "      <td>1</td>\n",
              "    </tr>\n",
              "    <tr>\n",
              "      <th>1</th>\n",
              "      <td>37</td>\n",
              "      <td>1</td>\n",
              "      <td>2</td>\n",
              "      <td>130</td>\n",
              "      <td>250</td>\n",
              "      <td>0</td>\n",
              "      <td>1</td>\n",
              "      <td>187</td>\n",
              "      <td>0</td>\n",
              "      <td>3.5</td>\n",
              "      <td>0</td>\n",
              "      <td>0</td>\n",
              "      <td>2</td>\n",
              "      <td>1</td>\n",
              "    </tr>\n",
              "    <tr>\n",
              "      <th>2</th>\n",
              "      <td>41</td>\n",
              "      <td>0</td>\n",
              "      <td>1</td>\n",
              "      <td>130</td>\n",
              "      <td>204</td>\n",
              "      <td>0</td>\n",
              "      <td>0</td>\n",
              "      <td>172</td>\n",
              "      <td>0</td>\n",
              "      <td>1.4</td>\n",
              "      <td>2</td>\n",
              "      <td>0</td>\n",
              "      <td>2</td>\n",
              "      <td>1</td>\n",
              "    </tr>\n",
              "    <tr>\n",
              "      <th>3</th>\n",
              "      <td>56</td>\n",
              "      <td>1</td>\n",
              "      <td>1</td>\n",
              "      <td>120</td>\n",
              "      <td>236</td>\n",
              "      <td>0</td>\n",
              "      <td>1</td>\n",
              "      <td>178</td>\n",
              "      <td>0</td>\n",
              "      <td>0.8</td>\n",
              "      <td>2</td>\n",
              "      <td>0</td>\n",
              "      <td>2</td>\n",
              "      <td>1</td>\n",
              "    </tr>\n",
              "    <tr>\n",
              "      <th>4</th>\n",
              "      <td>57</td>\n",
              "      <td>0</td>\n",
              "      <td>0</td>\n",
              "      <td>120</td>\n",
              "      <td>354</td>\n",
              "      <td>0</td>\n",
              "      <td>1</td>\n",
              "      <td>163</td>\n",
              "      <td>1</td>\n",
              "      <td>0.6</td>\n",
              "      <td>2</td>\n",
              "      <td>0</td>\n",
              "      <td>2</td>\n",
              "      <td>1</td>\n",
              "    </tr>\n",
              "  </tbody>\n",
              "</table>\n",
              "</div>"
            ],
            "text/plain": [
              "   age  sex  cp  trestbps  chol  fbs  ...  exang  oldpeak  slope  ca  thal  target\n",
              "0   63    1   3       145   233    1  ...      0      2.3      0   0     1       1\n",
              "1   37    1   2       130   250    0  ...      0      3.5      0   0     2       1\n",
              "2   41    0   1       130   204    0  ...      0      1.4      2   0     2       1\n",
              "3   56    1   1       120   236    0  ...      0      0.8      2   0     2       1\n",
              "4   57    0   0       120   354    0  ...      1      0.6      2   0     2       1\n",
              "\n",
              "[5 rows x 14 columns]"
            ]
          },
          "metadata": {
            "tags": []
          },
          "execution_count": 2
        }
      ]
    },
    {
      "cell_type": "code",
      "metadata": {
        "id": "JUi1EIKCieQN"
      },
      "source": [
        "from sklearn.model_selection import train_test_split"
      ],
      "execution_count": 3,
      "outputs": []
    },
    {
      "cell_type": "code",
      "metadata": {
        "id": "_WB2VNnYlJCg"
      },
      "source": [
        "data = df\r\n",
        "X = data.iloc[:, data.columns != 'target']\r\n",
        "y = data.iloc[:, data.columns == 'target']"
      ],
      "execution_count": 9,
      "outputs": []
    },
    {
      "cell_type": "code",
      "metadata": {
        "id": "lbHRH0_Biowc"
      },
      "source": [
        "X_train, X_test, y_train, y_test = train_test_split(X, y, test_size=0.3)"
      ],
      "execution_count": 10,
      "outputs": []
    },
    {
      "cell_type": "code",
      "metadata": {
        "colab": {
          "base_uri": "https://localhost:8080/"
        },
        "id": "b7jeLmiYjENc",
        "outputId": "d988a7fe-d17c-4b0b-b27b-8ede819643bc"
      },
      "source": [
        "print('Train dataset:', len(X_train))\r\n",
        "print('Test dataset:', len(X_test))\r\n",
        "print('Dataset:', len(X_train) + len(X_test))"
      ],
      "execution_count": 11,
      "outputs": [
        {
          "output_type": "stream",
          "text": [
            "Train dataset: 212\n",
            "Test dataset: 91\n",
            "Dataset: 303\n"
          ],
          "name": "stdout"
        }
      ]
    },
    {
      "cell_type": "code",
      "metadata": {
        "id": "mQPzwKvWkFew"
      },
      "source": [
        "from sklearn.linear_model import LogisticRegression\r\n",
        "from sklearn.model_selection import  KFold, cross_val_score\r\n",
        "from sklearn.metrics import confusion_matrix,precision_recall_curve,auc,roc_auc_score,roc_curve,recall_score,classification_report"
      ],
      "execution_count": 12,
      "outputs": []
    },
    {
      "cell_type": "code",
      "metadata": {
        "id": "nPyLLxkvkmI1"
      },
      "source": [
        "def printing_Kfold_scores(x_train_data, y_train_data):\r\n",
        "\r\n",
        "    fold = KFold(5, shuffle=False)\r\n",
        "\r\n",
        "    # các thông số C khác nhau\r\n",
        "    c_param_range = [0.1, 1, 10, 100, 10000] # tham số tự do\r\n",
        "\r\n",
        "    results_table = pd.DataFrame(index=range(len(c_param_range), 2), columns=['C_parameter', 'Mean recall score'])\r\n",
        "    results_table['C_parameter'] = c_param_range\r\n",
        "\r\n",
        "    # xuất 2 thông tin của Kfold\r\n",
        "    j = 0 \r\n",
        "    for c_param in c_param_range:\r\n",
        "        print('-----------------------------')\r\n",
        "        print('Tham số C:', c_param)\r\n",
        "        print('-----------------------------')\r\n",
        "        print('')\r\n",
        "\r\n",
        "        recall_accs = []\r\n",
        "        for iteration, indices in enumerate(fold.split(x_train_data)): \r\n",
        "            lr = LogisticRegression(C = c_param, penalty = 'l1', solver='liblinear')   \r\n",
        "            lr.fit(x_train_data.iloc[indices[0],:],y_train_data.iloc[indices[0],:].values.ravel())  \r\n",
        "            y_pred_undersample = lr.predict(x_train_data.iloc[indices[1],:].values)  \r\n",
        "            recall_acc = recall_score(y_train_data.iloc[indices[1],:].values,y_pred_undersample) \r\n",
        "            recall_accs.append(recall_acc)\r\n",
        "            print('Vòng lặp ', iteration,': Điểm recall = ', recall_acc)\r\n",
        "\r\n",
        "        # tính giá trị trung bình của các thông số ở trên\r\n",
        "        results_table.loc[j,'Mean recall score'] = np.mean(recall_accs)\r\n",
        "        j += 1\r\n",
        "        print('')\r\n",
        "        print('Trung bình điểm recall:', np.mean(recall_accs))\r\n",
        "        print('')\r\n",
        "\r\n",
        "    best_c = results_table.loc[results_table['Mean recall score'].astype(float).idxmax()]['C_parameter']\r\n",
        "\r\n",
        "    # Finally, we can check which C parameter is the best amongst the chosen.\r\n",
        "    print('*********************************************************************************')\r\n",
        "    print('Model tốt nhất từ cross-validation với tham số C = ', best_c)\r\n",
        "    print('*********************************************************************************')\r\n",
        "\r\n",
        "    return best_c"
      ],
      "execution_count": 7,
      "outputs": []
    },
    {
      "cell_type": "code",
      "metadata": {
        "colab": {
          "base_uri": "https://localhost:8080/"
        },
        "id": "uUrybxkvkv6u",
        "outputId": "d6f9f568-9365-4ae6-a629-e235497053a2"
      },
      "source": [
        "best_c = printing_Kfold_scores(X_train, y_train)"
      ],
      "execution_count": 13,
      "outputs": [
        {
          "output_type": "stream",
          "text": [
            "-----------------------------\n",
            "Tham số C: 0.1\n",
            "-----------------------------\n",
            "\n",
            "Vòng lặp  0 : Điểm recall =  0.7916666666666666\n",
            "Vòng lặp  1 : Điểm recall =  0.8947368421052632\n",
            "Vòng lặp  2 : Điểm recall =  0.8695652173913043\n",
            "Vòng lặp  3 : Điểm recall =  0.8846153846153846\n",
            "Vòng lặp  4 : Điểm recall =  0.7619047619047619\n",
            "\n",
            "Trung bình điểm recall: 0.8404977745366761\n",
            "\n",
            "-----------------------------\n",
            "Tham số C: 1\n",
            "-----------------------------\n",
            "\n",
            "Vòng lặp  0 : Điểm recall =  0.9166666666666666\n",
            "Vòng lặp  1 : Điểm recall =  0.9473684210526315\n",
            "Vòng lặp  2 : Điểm recall =  0.9130434782608695\n",
            "Vòng lặp  3 : Điểm recall =  0.8846153846153846\n",
            "Vòng lặp  4 : Điểm recall =  0.8095238095238095\n",
            "\n",
            "Trung bình điểm recall: 0.8942435520238723\n",
            "\n",
            "-----------------------------\n",
            "Tham số C: 10\n",
            "-----------------------------\n",
            "\n",
            "Vòng lặp  0 : Điểm recall =  0.8333333333333334\n",
            "Vòng lặp  1 : Điểm recall =  0.8947368421052632\n",
            "Vòng lặp  2 : Điểm recall =  0.9130434782608695\n",
            "Vòng lặp  3 : Điểm recall =  0.8076923076923077\n",
            "Vòng lặp  4 : Điểm recall =  0.8095238095238095\n",
            "\n",
            "Trung bình điểm recall: 0.8516659541831165\n",
            "\n",
            "-----------------------------\n",
            "Tham số C: 100\n",
            "-----------------------------\n",
            "\n",
            "Vòng lặp  0 : Điểm recall =  0.8333333333333334\n",
            "Vòng lặp  1 : Điểm recall =  0.8947368421052632\n",
            "Vòng lặp  2 : Điểm recall =  0.9130434782608695\n",
            "Vòng lặp  3 : Điểm recall =  0.8076923076923077\n",
            "Vòng lặp  4 : Điểm recall =  0.8095238095238095\n",
            "\n",
            "Trung bình điểm recall: 0.8516659541831165\n",
            "\n",
            "-----------------------------\n",
            "Tham số C: 10000\n",
            "-----------------------------\n",
            "\n",
            "Vòng lặp  0 : Điểm recall =  0.8333333333333334\n",
            "Vòng lặp  1 : Điểm recall =  0.8947368421052632\n",
            "Vòng lặp  2 : Điểm recall =  0.9130434782608695\n",
            "Vòng lặp  3 : Điểm recall =  0.8076923076923077\n",
            "Vòng lặp  4 : Điểm recall =  0.8095238095238095\n",
            "\n",
            "Trung bình điểm recall: 0.8516659541831165\n",
            "\n",
            "*********************************************************************************\n",
            "Model tốt nhất từ cross-validation với tham số C =  1.0\n",
            "*********************************************************************************\n"
          ],
          "name": "stdout"
        }
      ]
    }
  ]
}