{
  "nbformat": 4,
  "nbformat_minor": 0,
  "metadata": {
    "colab": {
      "name": "classification-heart.ipynb",
      "provenance": [],
      "mount_file_id": "1EfQgL24mT4EOJgqz9kqsj5GLLyv6jACX",
      "authorship_tag": "ABX9TyPn04lX+tHEyjqKR0xFpIvH",
      "include_colab_link": true
    },
    "kernelspec": {
      "name": "python3",
      "display_name": "Python 3"
    }
  },
  "cells": [
    {
      "cell_type": "markdown",
      "metadata": {
        "id": "view-in-github",
        "colab_type": "text"
      },
      "source": [
        "<a href=\"https://colab.research.google.com/github/PTson2207/Classification-heartcsv/blob/main/classification_heart.ipynb\" target=\"_parent\"><img src=\"https://colab.research.google.com/assets/colab-badge.svg\" alt=\"Open In Colab\"/></a>"
      ]
    },
    {
      "cell_type": "code",
      "metadata": {
        "colab": {
          "base_uri": "https://localhost:8080/"
        },
        "id": "5NCikx8mL_IL",
        "outputId": "75c40c68-dca7-461a-ac90-b78a3c31ddcc"
      },
      "source": [
        "import pandas as pd\r\n",
        "import numpy as np\r\n",
        "import matplotlib.pyplot as plt\r\n",
        "from collections import Counter\r\n",
        "from sklearn.preprocessing import StandardScaler\r\n",
        "from sklearn.model_selection import train_test_split, cross_val_score, GridSearchCV\r\n",
        "# data modeling\r\n",
        "from sklearn.metrics import confusion_matrix,accuracy_score,roc_curve,roc_auc_score,classification_report,f1_score\r\n",
        "from sklearn.linear_model import LogisticRegression\r\n",
        "from sklearn.naive_bayes import GaussianNB\r\n",
        "from xgboost import XGBClassifier\r\n",
        "from sklearn.ensemble import RandomForestClassifier\r\n",
        "from sklearn.tree import DecisionTreeClassifier\r\n",
        "from sklearn.neighbors import KNeighborsClassifier\r\n",
        "from sklearn.naive_bayes import GaussianNB\r\n",
        "from sklearn.svm import SVC\r\n",
        "#ensembling\r\n",
        "from mlxtend.classifier import StackingCVClassifier\r\n",
        "import xgboost as xgb\r\n",
        "import itertools\r\n",
        "from sklearn.dummy import DummyClassifier\r\n",
        "from sklearn import metrics"
      ],
      "execution_count": 1,
      "outputs": [
        {
          "output_type": "stream",
          "text": [
            "/usr/local/lib/python3.7/dist-packages/sklearn/externals/six.py:31: FutureWarning: The module is deprecated in version 0.21 and will be removed in version 0.23 since we've dropped support for Python 2.7. Please rely on the official version of six (https://pypi.org/project/six/).\n",
            "  \"(https://pypi.org/project/six/).\", FutureWarning)\n"
          ],
          "name": "stderr"
        }
      ]
    },
    {
      "cell_type": "code",
      "metadata": {
        "colab": {
          "base_uri": "https://localhost:8080/",
          "height": 204
        },
        "id": "SqdLuCNaOisp",
        "outputId": "11ef97c0-fa73-43ec-a399-8beea06cecb5"
      },
      "source": [
        "df = pd.read_csv('/content/drive/MyDrive/DataVIZ/DatViz/heart.csv')\r\n",
        "df.head()"
      ],
      "execution_count": 2,
      "outputs": [
        {
          "output_type": "execute_result",
          "data": {
            "text/html": [
              "<div>\n",
              "<style scoped>\n",
              "    .dataframe tbody tr th:only-of-type {\n",
              "        vertical-align: middle;\n",
              "    }\n",
              "\n",
              "    .dataframe tbody tr th {\n",
              "        vertical-align: top;\n",
              "    }\n",
              "\n",
              "    .dataframe thead th {\n",
              "        text-align: right;\n",
              "    }\n",
              "</style>\n",
              "<table border=\"1\" class=\"dataframe\">\n",
              "  <thead>\n",
              "    <tr style=\"text-align: right;\">\n",
              "      <th></th>\n",
              "      <th>age</th>\n",
              "      <th>sex</th>\n",
              "      <th>cp</th>\n",
              "      <th>trestbps</th>\n",
              "      <th>chol</th>\n",
              "      <th>fbs</th>\n",
              "      <th>restecg</th>\n",
              "      <th>thalach</th>\n",
              "      <th>exang</th>\n",
              "      <th>oldpeak</th>\n",
              "      <th>slope</th>\n",
              "      <th>ca</th>\n",
              "      <th>thal</th>\n",
              "      <th>target</th>\n",
              "    </tr>\n",
              "  </thead>\n",
              "  <tbody>\n",
              "    <tr>\n",
              "      <th>0</th>\n",
              "      <td>63</td>\n",
              "      <td>1</td>\n",
              "      <td>3</td>\n",
              "      <td>145</td>\n",
              "      <td>233</td>\n",
              "      <td>1</td>\n",
              "      <td>0</td>\n",
              "      <td>150</td>\n",
              "      <td>0</td>\n",
              "      <td>2.3</td>\n",
              "      <td>0</td>\n",
              "      <td>0</td>\n",
              "      <td>1</td>\n",
              "      <td>1</td>\n",
              "    </tr>\n",
              "    <tr>\n",
              "      <th>1</th>\n",
              "      <td>37</td>\n",
              "      <td>1</td>\n",
              "      <td>2</td>\n",
              "      <td>130</td>\n",
              "      <td>250</td>\n",
              "      <td>0</td>\n",
              "      <td>1</td>\n",
              "      <td>187</td>\n",
              "      <td>0</td>\n",
              "      <td>3.5</td>\n",
              "      <td>0</td>\n",
              "      <td>0</td>\n",
              "      <td>2</td>\n",
              "      <td>1</td>\n",
              "    </tr>\n",
              "    <tr>\n",
              "      <th>2</th>\n",
              "      <td>41</td>\n",
              "      <td>0</td>\n",
              "      <td>1</td>\n",
              "      <td>130</td>\n",
              "      <td>204</td>\n",
              "      <td>0</td>\n",
              "      <td>0</td>\n",
              "      <td>172</td>\n",
              "      <td>0</td>\n",
              "      <td>1.4</td>\n",
              "      <td>2</td>\n",
              "      <td>0</td>\n",
              "      <td>2</td>\n",
              "      <td>1</td>\n",
              "    </tr>\n",
              "    <tr>\n",
              "      <th>3</th>\n",
              "      <td>56</td>\n",
              "      <td>1</td>\n",
              "      <td>1</td>\n",
              "      <td>120</td>\n",
              "      <td>236</td>\n",
              "      <td>0</td>\n",
              "      <td>1</td>\n",
              "      <td>178</td>\n",
              "      <td>0</td>\n",
              "      <td>0.8</td>\n",
              "      <td>2</td>\n",
              "      <td>0</td>\n",
              "      <td>2</td>\n",
              "      <td>1</td>\n",
              "    </tr>\n",
              "    <tr>\n",
              "      <th>4</th>\n",
              "      <td>57</td>\n",
              "      <td>0</td>\n",
              "      <td>0</td>\n",
              "      <td>120</td>\n",
              "      <td>354</td>\n",
              "      <td>0</td>\n",
              "      <td>1</td>\n",
              "      <td>163</td>\n",
              "      <td>1</td>\n",
              "      <td>0.6</td>\n",
              "      <td>2</td>\n",
              "      <td>0</td>\n",
              "      <td>2</td>\n",
              "      <td>1</td>\n",
              "    </tr>\n",
              "  </tbody>\n",
              "</table>\n",
              "</div>"
            ],
            "text/plain": [
              "   age  sex  cp  trestbps  chol  fbs  ...  exang  oldpeak  slope  ca  thal  target\n",
              "0   63    1   3       145   233    1  ...      0      2.3      0   0     1       1\n",
              "1   37    1   2       130   250    0  ...      0      3.5      0   0     2       1\n",
              "2   41    0   1       130   204    0  ...      0      1.4      2   0     2       1\n",
              "3   56    1   1       120   236    0  ...      0      0.8      2   0     2       1\n",
              "4   57    0   0       120   354    0  ...      1      0.6      2   0     2       1\n",
              "\n",
              "[5 rows x 14 columns]"
            ]
          },
          "metadata": {
            "tags": []
          },
          "execution_count": 2
        }
      ]
    },
    {
      "cell_type": "code",
      "metadata": {
        "id": "lDwOjy_JgOAX"
      },
      "source": [
        "y = df.target\r\n",
        "X = df.drop(['target'],axis=1)"
      ],
      "execution_count": 3,
      "outputs": []
    },
    {
      "cell_type": "code",
      "metadata": {
        "id": "jnTJqbqAgYn_"
      },
      "source": [
        "X_train, X_test, y_train, y_test = train_test_split(X, y, random_state=0, test_size=0.2)"
      ],
      "execution_count": 4,
      "outputs": []
    },
    {
      "cell_type": "code",
      "metadata": {
        "id": "P36hRa0ygp3x"
      },
      "source": [
        "scaler = StandardScaler()\r\n",
        "X_train = scaler.fit_transform(X_train)\r\n",
        "X_test = scaler.transform(X_test)"
      ],
      "execution_count": 5,
      "outputs": []
    },
    {
      "cell_type": "code",
      "metadata": {
        "colab": {
          "base_uri": "https://localhost:8080/"
        },
        "id": "0qW9WK9Qg8-4",
        "outputId": "acd05535-f9f9-4a24-c697-007791fcc6c4"
      },
      "source": [
        "X_train"
      ],
      "execution_count": 6,
      "outputs": [
        {
          "output_type": "execute_result",
          "data": {
            "text/plain": [
              "array([[-1.32773282, -1.43641607,  0.98584243, ..., -0.66169316,\n",
              "        -0.70710678, -0.46472917],\n",
              "       [ 1.24903178, -1.43641607,  0.98584243, ..., -0.66169316,\n",
              "         0.26516504, -0.46472917],\n",
              "       [ 0.35276583,  0.69617712,  0.98584243, ...,  0.95577901,\n",
              "        -0.70710678, -0.46472917],\n",
              "       ...,\n",
              "       [ 0.12869935,  0.69617712,  1.94013791, ..., -0.66169316,\n",
              "        -0.70710678,  1.14190596],\n",
              "       [-0.87959984,  0.69617712,  0.98584243, ...,  0.95577901,\n",
              "        -0.70710678, -0.46472917],\n",
              "       [ 0.35276583,  0.69617712,  0.03154696, ..., -0.66169316,\n",
              "        -0.70710678, -0.46472917]])"
            ]
          },
          "metadata": {
            "tags": []
          },
          "execution_count": 6
        }
      ]
    },
    {
      "cell_type": "markdown",
      "metadata": {
        "id": "a1Mbs2PWhM4v"
      },
      "source": [
        "    Baseline Prediction"
      ]
    },
    {
      "cell_type": "code",
      "metadata": {
        "id": "avZZgmFXhPOQ"
      },
      "source": [
        "dummy_clf = DummyClassifier(strategy='stratified')"
      ],
      "execution_count": 7,
      "outputs": []
    },
    {
      "cell_type": "code",
      "metadata": {
        "colab": {
          "base_uri": "https://localhost:8080/"
        },
        "id": "-a7vx-sihdAc",
        "outputId": "898258ea-bc8f-44e6-b34a-0adc18ec817c"
      },
      "source": [
        "dummy_clf.fit(X_train, y_train)\r\n"
      ],
      "execution_count": 8,
      "outputs": [
        {
          "output_type": "execute_result",
          "data": {
            "text/plain": [
              "DummyClassifier(constant=None, random_state=None, strategy='stratified')"
            ]
          },
          "metadata": {
            "tags": []
          },
          "execution_count": 8
        }
      ]
    },
    {
      "cell_type": "code",
      "metadata": {
        "colab": {
          "base_uri": "https://localhost:8080/"
        },
        "id": "89M7aY3xhnWv",
        "outputId": "a0a69ff8-ec87-494b-aa1a-ccb0b6d6a5d3"
      },
      "source": [
        "DummyClassifier(strategy='stratified')\r\n",
        "dummy_clf.predict(X_test)\r\n",
        "dummy_clf.score(X_test, y_test)"
      ],
      "execution_count": 9,
      "outputs": [
        {
          "output_type": "execute_result",
          "data": {
            "text/plain": [
              "0.4262295081967213"
            ]
          },
          "metadata": {
            "tags": []
          },
          "execution_count": 9
        }
      ]
    },
    {
      "cell_type": "markdown",
      "metadata": {
        "id": "mlFSAG2xio6O"
      },
      "source": [
        "    Logistic Regression"
      ]
    },
    {
      "cell_type": "code",
      "metadata": {
        "colab": {
          "base_uri": "https://localhost:8080/"
        },
        "id": "zRWNI0bwin0x",
        "outputId": "c0fd4aeb-8598-41a6-97d1-196dbf67c2fc"
      },
      "source": [
        "log = LogisticRegression()\r\n",
        "log.fit(X_train, y_train)"
      ],
      "execution_count": 10,
      "outputs": [
        {
          "output_type": "execute_result",
          "data": {
            "text/plain": [
              "LogisticRegression(C=1.0, class_weight=None, dual=False, fit_intercept=True,\n",
              "                   intercept_scaling=1, l1_ratio=None, max_iter=100,\n",
              "                   multi_class='auto', n_jobs=None, penalty='l2',\n",
              "                   random_state=None, solver='lbfgs', tol=0.0001, verbose=0,\n",
              "                   warm_start=False)"
            ]
          },
          "metadata": {
            "tags": []
          },
          "execution_count": 10
        }
      ]
    },
    {
      "cell_type": "code",
      "metadata": {
        "id": "xCTwi02EjtFk"
      },
      "source": [
        "pred = log.predict(X_test)\r\n",
        "acc_score = metrics.accuracy_score(y_test, pred)\r\n",
        "f1_score = metrics.f1_score(y_test, pred)\r\n",
        "conf_matrix = confusion_matrix(y_test, pred)"
      ],
      "execution_count": 11,
      "outputs": []
    },
    {
      "cell_type": "code",
      "metadata": {
        "colab": {
          "base_uri": "https://localhost:8080/"
        },
        "id": "-3o-SlhmkLDy",
        "outputId": "13a1e88c-8cd1-44e0-b1c6-e26faa347ffd"
      },
      "source": [
        "print('Test accuracy score:', acc_score)\r\n",
        "print('Test F1 score:', f1_score)\r\n",
        "print(\"COnfusion Matrix\")\r\n",
        "print(conf_matrix)\r\n",
        "print('\\n')\r\n",
        "print(classification_report(y_test, pred))"
      ],
      "execution_count": 12,
      "outputs": [
        {
          "output_type": "stream",
          "text": [
            "Test accuracy score: 0.8524590163934426\n",
            "Test F1 score: 0.8732394366197184\n",
            "COnfusion Matrix\n",
            "[[21  6]\n",
            " [ 3 31]]\n",
            "\n",
            "\n",
            "              precision    recall  f1-score   support\n",
            "\n",
            "           0       0.88      0.78      0.82        27\n",
            "           1       0.84      0.91      0.87        34\n",
            "\n",
            "    accuracy                           0.85        61\n",
            "   macro avg       0.86      0.84      0.85        61\n",
            "weighted avg       0.85      0.85      0.85        61\n",
            "\n"
          ],
          "name": "stdout"
        }
      ]
    },
    {
      "cell_type": "markdown",
      "metadata": {
        "id": "GNyel-a9qMzr"
      },
      "source": [
        "    KNN"
      ]
    },
    {
      "cell_type": "code",
      "metadata": {
        "colab": {
          "base_uri": "https://localhost:8080/"
        },
        "id": "nzYphQdWqJFt",
        "outputId": "4f510e5d-9264-42d8-9a1d-368bdad2a9e5"
      },
      "source": [
        "knn = KNeighborsClassifier()\r\n",
        "knn.fit(X_train, y_train)"
      ],
      "execution_count": 13,
      "outputs": [
        {
          "output_type": "execute_result",
          "data": {
            "text/plain": [
              "KNeighborsClassifier(algorithm='auto', leaf_size=30, metric='minkowski',\n",
              "                     metric_params=None, n_jobs=None, n_neighbors=5, p=2,\n",
              "                     weights='uniform')"
            ]
          },
          "metadata": {
            "tags": []
          },
          "execution_count": 13
        }
      ]
    },
    {
      "cell_type": "code",
      "metadata": {
        "id": "JG6mEMLIqUtA"
      },
      "source": [
        "knn_pred = knn.predict(X_test)\r\n",
        "knn_score = metrics.accuracy_score(y_test, knn_pred)\r\n",
        "knn_f1_score = metrics.f1_score(y_test, knn_pred)\r\n",
        "knn_conf_matrix = confusion_matrix(y_test, knn_pred)"
      ],
      "execution_count": 14,
      "outputs": []
    },
    {
      "cell_type": "code",
      "metadata": {
        "colab": {
          "base_uri": "https://localhost:8080/"
        },
        "id": "pxUAXtmaqzZ-",
        "outputId": "79720324-b62a-44cb-ab96-b4d2acf92551"
      },
      "source": [
        "print('Test accuracy score:', knn_score)\r\n",
        "print('Test F1 score:', knn_f1_score)\r\n",
        "print(\"Confusion Matrix\")\r\n",
        "print(knn_conf_matrix)\r\n",
        "print('\\n')\r\n",
        "print(classification_report(y_test, knn_pred))"
      ],
      "execution_count": 15,
      "outputs": [
        {
          "output_type": "stream",
          "text": [
            "Test accuracy score: 0.819672131147541\n",
            "Test F1 score: 0.8405797101449276\n",
            "Confusion Matrix\n",
            "[[21  6]\n",
            " [ 5 29]]\n",
            "\n",
            "\n",
            "              precision    recall  f1-score   support\n",
            "\n",
            "           0       0.81      0.78      0.79        27\n",
            "           1       0.83      0.85      0.84        34\n",
            "\n",
            "    accuracy                           0.82        61\n",
            "   macro avg       0.82      0.82      0.82        61\n",
            "weighted avg       0.82      0.82      0.82        61\n",
            "\n"
          ],
          "name": "stdout"
        }
      ]
    },
    {
      "cell_type": "markdown",
      "metadata": {
        "id": "t-QObpqsNqyM"
      },
      "source": [
        "    DecisionTree Classifier"
      ]
    },
    {
      "cell_type": "code",
      "metadata": {
        "colab": {
          "base_uri": "https://localhost:8080/"
        },
        "id": "m1Fk92USN4uv",
        "outputId": "64e643de-cc2a-4c94-f73a-2b62013667dd"
      },
      "source": [
        "tree = DecisionTreeClassifier()\r\n",
        "tree.fit(X_train, y_train)"
      ],
      "execution_count": 16,
      "outputs": [
        {
          "output_type": "execute_result",
          "data": {
            "text/plain": [
              "DecisionTreeClassifier(ccp_alpha=0.0, class_weight=None, criterion='gini',\n",
              "                       max_depth=None, max_features=None, max_leaf_nodes=None,\n",
              "                       min_impurity_decrease=0.0, min_impurity_split=None,\n",
              "                       min_samples_leaf=1, min_samples_split=2,\n",
              "                       min_weight_fraction_leaf=0.0, presort='deprecated',\n",
              "                       random_state=None, splitter='best')"
            ]
          },
          "metadata": {
            "tags": []
          },
          "execution_count": 16
        }
      ]
    },
    {
      "cell_type": "code",
      "metadata": {
        "id": "FUzExW3ROLMI"
      },
      "source": [
        "pred_tree = tree.predict(X_test)\r\n",
        "acc_score_tree = metrics.accuracy_score(y_test, pred_tree)\r\n",
        "f1_score_tree = metrics.f1_score(y_test, pred_tree)\r\n",
        "conf_matrix_tree = confusion_matrix(y_test, pred_tree)"
      ],
      "execution_count": 17,
      "outputs": []
    },
    {
      "cell_type": "code",
      "metadata": {
        "colab": {
          "base_uri": "https://localhost:8080/"
        },
        "id": "sRytb40YOvQ-",
        "outputId": "fab60e27-68e3-4248-ab86-2c51480c0f44"
      },
      "source": [
        "print('Test accuracy score:', acc_score_tree)\r\n",
        "print('Test F1 score:', f1_score_tree)\r\n",
        "print('confusion matrix')\r\n",
        "print(conf_matrix_tree)\r\n",
        "print('\\n')\r\n",
        "print(classification_report(y_test, pred_tree))"
      ],
      "execution_count": 18,
      "outputs": [
        {
          "output_type": "stream",
          "text": [
            "Test accuracy score: 0.7540983606557377\n",
            "Test F1 score: 0.7619047619047619\n",
            "confusion matrix\n",
            "[[22  5]\n",
            " [10 24]]\n",
            "\n",
            "\n",
            "              precision    recall  f1-score   support\n",
            "\n",
            "           0       0.69      0.81      0.75        27\n",
            "           1       0.83      0.71      0.76        34\n",
            "\n",
            "    accuracy                           0.75        61\n",
            "   macro avg       0.76      0.76      0.75        61\n",
            "weighted avg       0.77      0.75      0.75        61\n",
            "\n"
          ],
          "name": "stdout"
        }
      ]
    },
    {
      "cell_type": "markdown",
      "metadata": {
        "id": "VA4pj9SeTuPb"
      },
      "source": [
        "    Random Forest"
      ]
    },
    {
      "cell_type": "code",
      "metadata": {
        "colab": {
          "base_uri": "https://localhost:8080/"
        },
        "id": "VVU7pEq7TwfJ",
        "outputId": "a347c5dd-9a52-48a1-ae5c-0b0e4be65b3a"
      },
      "source": [
        "rfc = RandomForestClassifier()\r\n",
        "rfc.fit(X_train, y_train)"
      ],
      "execution_count": 19,
      "outputs": [
        {
          "output_type": "execute_result",
          "data": {
            "text/plain": [
              "RandomForestClassifier(bootstrap=True, ccp_alpha=0.0, class_weight=None,\n",
              "                       criterion='gini', max_depth=None, max_features='auto',\n",
              "                       max_leaf_nodes=None, max_samples=None,\n",
              "                       min_impurity_decrease=0.0, min_impurity_split=None,\n",
              "                       min_samples_leaf=1, min_samples_split=2,\n",
              "                       min_weight_fraction_leaf=0.0, n_estimators=100,\n",
              "                       n_jobs=None, oob_score=False, random_state=None,\n",
              "                       verbose=0, warm_start=False)"
            ]
          },
          "metadata": {
            "tags": []
          },
          "execution_count": 19
        }
      ]
    },
    {
      "cell_type": "code",
      "metadata": {
        "id": "hc06IemuT5Vb"
      },
      "source": [
        "y_pred = rfc.predict(X_test)\r\n",
        "rfc_acc_score = metrics.accuracy_score(y_test, y_pred)\r\n",
        "rfc_f1_score = metrics.f1_score(y_test, y_pred)\r\n",
        "rfc_conf_matrix = confusion_matrix(y_test, y_pred)"
      ],
      "execution_count": 20,
      "outputs": []
    },
    {
      "cell_type": "code",
      "metadata": {
        "colab": {
          "base_uri": "https://localhost:8080/"
        },
        "id": "ZoitHXzip0OT",
        "outputId": "0dc3cda3-f095-413a-8fbd-cf40b3794806"
      },
      "source": [
        "print('Test accuracy score:', rfc_acc_score)\r\n",
        "print('Test F1 score:', rfc_f1_score)\r\n",
        "print('Confusion Matrix')\r\n",
        "print(rfc_conf_matrix)\r\n",
        "print('\\n')\r\n",
        "print(classification_report(y_test, y_pred))"
      ],
      "execution_count": 21,
      "outputs": [
        {
          "output_type": "stream",
          "text": [
            "Test accuracy score: 0.8524590163934426\n",
            "Test F1 score: 0.8695652173913043\n",
            "Confusion Matrix\n",
            "[[22  5]\n",
            " [ 4 30]]\n",
            "\n",
            "\n",
            "              precision    recall  f1-score   support\n",
            "\n",
            "           0       0.85      0.81      0.83        27\n",
            "           1       0.86      0.88      0.87        34\n",
            "\n",
            "    accuracy                           0.85        61\n",
            "   macro avg       0.85      0.85      0.85        61\n",
            "weighted avg       0.85      0.85      0.85        61\n",
            "\n"
          ],
          "name": "stdout"
        }
      ]
    },
    {
      "cell_type": "markdown",
      "metadata": {
        "id": "HpJCezAvrWrK"
      },
      "source": [
        "    XGB"
      ]
    },
    {
      "cell_type": "code",
      "metadata": {
        "colab": {
          "base_uri": "https://localhost:8080/"
        },
        "id": "TIkgDV2irViI",
        "outputId": "e56d28d8-572b-4a76-ab15-6a3b7735cd46"
      },
      "source": [
        "xg_cl = xgb.XGBClassifier()\r\n",
        "xg_cl.fit(X_train, y_train)"
      ],
      "execution_count": 22,
      "outputs": [
        {
          "output_type": "execute_result",
          "data": {
            "text/plain": [
              "XGBClassifier(base_score=0.5, booster='gbtree', colsample_bylevel=1,\n",
              "              colsample_bynode=1, colsample_bytree=1, gamma=0,\n",
              "              learning_rate=0.1, max_delta_step=0, max_depth=3,\n",
              "              min_child_weight=1, missing=None, n_estimators=100, n_jobs=1,\n",
              "              nthread=None, objective='binary:logistic', random_state=0,\n",
              "              reg_alpha=0, reg_lambda=1, scale_pos_weight=1, seed=None,\n",
              "              silent=None, subsample=1, verbosity=1)"
            ]
          },
          "metadata": {
            "tags": []
          },
          "execution_count": 22
        }
      ]
    },
    {
      "cell_type": "code",
      "metadata": {
        "id": "80GFtNhOWOI4"
      },
      "source": [
        "y_pred_xgb = xg_cl.predict(X_test)\r\n",
        "xgb_acc_score = metrics.accuracy_score(y_test, y_pred_xgb)\r\n",
        "xgb_f1_score = metrics.f1_score(y_test, y_pred_xgb)\r\n",
        "xgb_conf_matrix = confusion_matrix(y_test, y_pred_xgb)"
      ],
      "execution_count": 23,
      "outputs": []
    },
    {
      "cell_type": "code",
      "metadata": {
        "colab": {
          "base_uri": "https://localhost:8080/"
        },
        "id": "vct-TLD9ChBk",
        "outputId": "ac72427a-cddb-487d-e2dd-411d9a73ee62"
      },
      "source": [
        "print(\"Test accuracy score:\", xgb_acc_score)\r\n",
        "print('Test F1 score:', xgb_f1_score)\r\n",
        "print('Confusion Matrix')\r\n",
        "print(xgb_conf_matrix)\r\n",
        "print('\\n')\r\n",
        "print(classification_report(y_test, y_pred_xgb))"
      ],
      "execution_count": 24,
      "outputs": [
        {
          "output_type": "stream",
          "text": [
            "Test accuracy score: 0.8524590163934426\n",
            "Test F1 score: 0.8695652173913043\n",
            "Confusion Matrix\n",
            "[[22  5]\n",
            " [ 4 30]]\n",
            "\n",
            "\n",
            "              precision    recall  f1-score   support\n",
            "\n",
            "           0       0.85      0.81      0.83        27\n",
            "           1       0.86      0.88      0.87        34\n",
            "\n",
            "    accuracy                           0.85        61\n",
            "   macro avg       0.85      0.85      0.85        61\n",
            "weighted avg       0.85      0.85      0.85        61\n",
            "\n"
          ],
          "name": "stdout"
        }
      ]
    },
    {
      "cell_type": "markdown",
      "metadata": {
        "id": "RKJxq__MnMgy"
      },
      "source": [
        "    Naive Bayes"
      ]
    },
    {
      "cell_type": "code",
      "metadata": {
        "colab": {
          "base_uri": "https://localhost:8080/"
        },
        "id": "023xXpO4nQhz",
        "outputId": "8ae43d24-01cf-4820-9c46-52fbc58ddcd1"
      },
      "source": [
        "nb = GaussianNB()\r\n",
        "nb.fit(X_train, y_train)"
      ],
      "execution_count": 25,
      "outputs": [
        {
          "output_type": "execute_result",
          "data": {
            "text/plain": [
              "GaussianNB(priors=None, var_smoothing=1e-09)"
            ]
          },
          "metadata": {
            "tags": []
          },
          "execution_count": 25
        }
      ]
    },
    {
      "cell_type": "code",
      "metadata": {
        "id": "Eu_GcQDQnbbV"
      },
      "source": [
        "y_pred_nb = nb.predict(X_test)\r\n",
        "nb_acc_score = metrics.accuracy_score(y_test, y_pred_nb)\r\n",
        "nb_f1_score = metrics.f1_score(y_test, y_pred_nb)\r\n",
        "nb_conf_matrix = confusion_matrix(y_test, y_pred_nb)"
      ],
      "execution_count": 26,
      "outputs": []
    },
    {
      "cell_type": "code",
      "metadata": {
        "colab": {
          "base_uri": "https://localhost:8080/"
        },
        "id": "sFWrW4Isn45r",
        "outputId": "ca4544ac-b906-449b-fa2b-ee6f3bf2c935"
      },
      "source": [
        "print('Test accuracy score:', nb_acc_score)\r\n",
        "print('Test f1 score:', nb_f1_score)\r\n",
        "print('Confusion Matrix')\r\n",
        "print(nb_conf_matrix)\r\n",
        "print('\\n')\r\n",
        "print(classification_report(y_test, y_pred_nb))"
      ],
      "execution_count": 27,
      "outputs": [
        {
          "output_type": "stream",
          "text": [
            "Test accuracy score: 0.8524590163934426\n",
            "Test f1 score: 0.8732394366197184\n",
            "Confusion Matrix\n",
            "[[21  6]\n",
            " [ 3 31]]\n",
            "\n",
            "\n",
            "              precision    recall  f1-score   support\n",
            "\n",
            "           0       0.88      0.78      0.82        27\n",
            "           1       0.84      0.91      0.87        34\n",
            "\n",
            "    accuracy                           0.85        61\n",
            "   macro avg       0.86      0.84      0.85        61\n",
            "weighted avg       0.85      0.85      0.85        61\n",
            "\n"
          ],
          "name": "stdout"
        }
      ]
    },
    {
      "cell_type": "markdown",
      "metadata": {
        "id": "PT4mPHKCodOp"
      },
      "source": [
        "    Support Vector Classifier"
      ]
    },
    {
      "cell_type": "code",
      "metadata": {
        "colab": {
          "base_uri": "https://localhost:8080/"
        },
        "id": "EFuNanmjohAh",
        "outputId": "bee3462e-77f8-4419-ccfd-23bca891065d"
      },
      "source": [
        "svc = SVC(kernel='rbf', C=2)\r\n",
        "svc.fit(X_train, y_train)"
      ],
      "execution_count": 28,
      "outputs": [
        {
          "output_type": "execute_result",
          "data": {
            "text/plain": [
              "SVC(C=2, break_ties=False, cache_size=200, class_weight=None, coef0=0.0,\n",
              "    decision_function_shape='ovr', degree=3, gamma='scale', kernel='rbf',\n",
              "    max_iter=-1, probability=False, random_state=None, shrinking=True,\n",
              "    tol=0.001, verbose=False)"
            ]
          },
          "metadata": {
            "tags": []
          },
          "execution_count": 28
        }
      ]
    },
    {
      "cell_type": "code",
      "metadata": {
        "id": "luxZXmkFopuJ"
      },
      "source": [
        "y_pred_svc = svc.predict(X_test)\r\n",
        "svc_acc_score = metrics.accuracy_score(y_test, y_pred_svc)\r\n",
        "svc_f1_score = metrics.f1_score(y_test, y_pred_svc)\r\n",
        "svc_conf_matrix = confusion_matrix(y_test, y_pred_svc)"
      ],
      "execution_count": 29,
      "outputs": []
    },
    {
      "cell_type": "code",
      "metadata": {
        "colab": {
          "base_uri": "https://localhost:8080/"
        },
        "id": "KyO4Z9iopFuQ",
        "outputId": "6c400ca7-f589-42c1-93d3-971d3a4c9762"
      },
      "source": [
        "print('Test accuracy score:', svc_acc_score)\r\n",
        "print('Test f1 score:', svc_f1_score)\r\n",
        "print('Confusion Matrix')\r\n",
        "print(svc_conf_matrix)\r\n",
        "print('\\n')\r\n",
        "print(classification_report(y_test, y_pred_svc))"
      ],
      "execution_count": 30,
      "outputs": [
        {
          "output_type": "stream",
          "text": [
            "Test accuracy score: 0.8852459016393442\n",
            "Test f1 score: 0.8985507246376812\n",
            "Confusion Matrix\n",
            "[[23  4]\n",
            " [ 3 31]]\n",
            "\n",
            "\n",
            "              precision    recall  f1-score   support\n",
            "\n",
            "           0       0.88      0.85      0.87        27\n",
            "           1       0.89      0.91      0.90        34\n",
            "\n",
            "    accuracy                           0.89        61\n",
            "   macro avg       0.89      0.88      0.88        61\n",
            "weighted avg       0.89      0.89      0.88        61\n",
            "\n"
          ],
          "name": "stdout"
        }
      ]
    },
    {
      "cell_type": "markdown",
      "metadata": {
        "id": "6IW3o5fdpuHB"
      },
      "source": [
        "    Feature importance viz"
      ]
    },
    {
      "cell_type": "code",
      "metadata": {
        "colab": {
          "base_uri": "https://localhost:8080/",
          "height": 297
        },
        "id": "1v2_7uIqpqfs",
        "outputId": "61fc6490-7082-485c-89d9-f13c8880ec33"
      },
      "source": [
        "feature_importance = abs(log.coef_[0])\r\n",
        "feature_importance = 100.0 * (feature_importance / feature_importance.max())\r\n",
        "sorted_idx = np.argsort(feature_importance)\r\n",
        "pos = np.arange(sorted_idx.shape[0]) + .5\r\n",
        "\r\n",
        "featfig = plt.figure()\r\n",
        "featax = featfig.add_subplot(1, 1, 1)\r\n",
        "featax.barh(pos, feature_importance[sorted_idx], align='center')\r\n",
        "featax.set_yticks(pos)\r\n",
        "featax.set_yticklabels(np.array(X.columns)[sorted_idx], fontsize=10)\r\n",
        "featax.set_xlabel('Relative Feature Importance')\r\n",
        "\r\n",
        "plt.tight_layout()   \r\n",
        "plt.show()"
      ],
      "execution_count": 31,
      "outputs": [
        {
          "output_type": "display_data",
          "data": {
            "image/png": "[encoded data removed]",
            "text/plain": [
              "<Figure size 432x288 with 1 Axes>"
            ]
          },
          "metadata": {
            "tags": [],
            "needs_background": "light"
          }
        }
      ]
    },
    {
      "cell_type": "markdown",
      "metadata": {
        "id": "4UmnB6-ojHvj"
      },
      "source": [
        "    Model Evaluation"
      ]
    },
    {
      "cell_type": "code",
      "metadata": {
        "id": "rfMuGjI2r71F"
      },
      "source": [
        "model_ev = pd.DataFrame({'Model':['Logistic Regression','Random Forest','Extreme Gradient Boost',\r\n",
        "                    'K-Nearest Neighbour','Decision Tree','Naive Bayes', 'Support Vector Classifier'],\r\n",
        "                    'Accuracy':[acc_score,\r\n",
        "                    rfc_acc_score,xgb_acc_score,knn_score,acc_score_tree,nb_acc_score, svc_acc_score]})"
      ],
      "execution_count": 32,
      "outputs": []
    },
    {
      "cell_type": "code",
      "metadata": {
        "colab": {
          "base_uri": "https://localhost:8080/",
          "height": 266
        },
        "id": "r94mktZulN6R",
        "outputId": "fea37166-ac3a-4024-b49a-6a8a36a6a5a8"
      },
      "source": [
        "model_ev"
      ],
      "execution_count": 33,
      "outputs": [
        {
          "output_type": "execute_result",
          "data": {
            "text/html": [
              "<div>\n",
              "<style scoped>\n",
              "    .dataframe tbody tr th:only-of-type {\n",
              "        vertical-align: middle;\n",
              "    }\n",
              "\n",
              "    .dataframe tbody tr th {\n",
              "        vertical-align: top;\n",
              "    }\n",
              "\n",
              "    .dataframe thead th {\n",
              "        text-align: right;\n",
              "    }\n",
              "</style>\n",
              "<table border=\"1\" class=\"dataframe\">\n",
              "  <thead>\n",
              "    <tr style=\"text-align: right;\">\n",
              "      <th></th>\n",
              "      <th>Model</th>\n",
              "      <th>Accuracy</th>\n",
              "    </tr>\n",
              "  </thead>\n",
              "  <tbody>\n",
              "    <tr>\n",
              "      <th>0</th>\n",
              "      <td>Logistic Regression</td>\n",
              "      <td>0.852459</td>\n",
              "    </tr>\n",
              "    <tr>\n",
              "      <th>1</th>\n",
              "      <td>Random Forest</td>\n",
              "      <td>0.852459</td>\n",
              "    </tr>\n",
              "    <tr>\n",
              "      <th>2</th>\n",
              "      <td>Extreme Gradient Boost</td>\n",
              "      <td>0.852459</td>\n",
              "    </tr>\n",
              "    <tr>\n",
              "      <th>3</th>\n",
              "      <td>K-Nearest Neighbour</td>\n",
              "      <td>0.819672</td>\n",
              "    </tr>\n",
              "    <tr>\n",
              "      <th>4</th>\n",
              "      <td>Decision Tree</td>\n",
              "      <td>0.754098</td>\n",
              "    </tr>\n",
              "    <tr>\n",
              "      <th>5</th>\n",
              "      <td>Naive Bayes</td>\n",
              "      <td>0.852459</td>\n",
              "    </tr>\n",
              "    <tr>\n",
              "      <th>6</th>\n",
              "      <td>Support Vector Classifier</td>\n",
              "      <td>0.885246</td>\n",
              "    </tr>\n",
              "  </tbody>\n",
              "</table>\n",
              "</div>"
            ],
            "text/plain": [
              "                       Model  Accuracy\n",
              "0        Logistic Regression  0.852459\n",
              "1              Random Forest  0.852459\n",
              "2     Extreme Gradient Boost  0.852459\n",
              "3        K-Nearest Neighbour  0.819672\n",
              "4              Decision Tree  0.754098\n",
              "5                Naive Bayes  0.852459\n",
              "6  Support Vector Classifier  0.885246"
            ]
          },
          "metadata": {
            "tags": []
          },
          "execution_count": 33
        }
      ]
    },
    {
      "cell_type": "markdown",
      "metadata": {
        "id": "d_qIulKdlZbs"
      },
      "source": [
        "    Ensembling"
      ]
    },
    {
      "cell_type": "code",
      "metadata": {
        "colab": {
          "base_uri": "https://localhost:8080/"
        },
        "id": "HyiTN-L2yy6a",
        "outputId": "f9ac4169-f612-4858-cca5-0929b1e9d3cd"
      },
      "source": [
        "X_train"
      ],
      "execution_count": 34,
      "outputs": [
        {
          "output_type": "execute_result",
          "data": {
            "text/plain": [
              "array([[-1.32773282, -1.43641607,  0.98584243, ..., -0.66169316,\n",
              "        -0.70710678, -0.46472917],\n",
              "       [ 1.24903178, -1.43641607,  0.98584243, ..., -0.66169316,\n",
              "         0.26516504, -0.46472917],\n",
              "       [ 0.35276583,  0.69617712,  0.98584243, ...,  0.95577901,\n",
              "        -0.70710678, -0.46472917],\n",
              "       ...,\n",
              "       [ 0.12869935,  0.69617712,  1.94013791, ..., -0.66169316,\n",
              "        -0.70710678,  1.14190596],\n",
              "       [-0.87959984,  0.69617712,  0.98584243, ...,  0.95577901,\n",
              "        -0.70710678, -0.46472917],\n",
              "       [ 0.35276583,  0.69617712,  0.03154696, ..., -0.66169316,\n",
              "        -0.70710678, -0.46472917]])"
            ]
          },
          "metadata": {
            "tags": []
          },
          "execution_count": 34
        }
      ]
    },
    {
      "cell_type": "markdown",
      "metadata": {
        "id": "Icsxxjtks9Xb"
      },
      "source": [
        "    Plot ROC Curves"
      ]
    },
    {
      "cell_type": "code",
      "metadata": {
        "id": "h7nSUqfOtAtR"
      },
      "source": [
        "fpr_log, tpr_log, thresholds_log = roc_curve(y_test, pred)\r\n",
        "fpr_knn, tpr_knn, thresholds_knn = roc_curve(y_test, knn_pred)\r\n",
        "fpr_tree, tpr_tree, thresholds_tree = roc_curve(y_test, pred_tree)\r\n",
        "fpr_rfc, tpr_rfc, thresholds_rfc = roc_curve(y_test, y_pred)\r\n",
        "fpr_xgb, tpr_xgb, thresholds_xgb = roc_curve(y_test, y_pred_xgb)\r\n",
        "fpr_nb, tpr_nb, thresholds_nb = roc_curve(y_test, y_pred_nb)\r\n",
        "fpr_svc, tpr_svc, thresholds_svc = roc_curve(y_test, y_pred_svc)"
      ],
      "execution_count": 35,
      "outputs": []
    },
    {
      "cell_type": "code",
      "metadata": {
        "colab": {
          "base_uri": "https://localhost:8080/",
          "height": 296
        },
        "id": "VZ85q8_MwL5V",
        "outputId": "8776a974-0d60-4788-cc8e-bdd30ba6db91"
      },
      "source": [
        "plt.plot([0, 1], [0, 1], 'k--')\r\n",
        "plt.plot(fpr_log, tpr_log,label = 'Logistic')\r\n",
        "plt.plot(fpr_knn, tpr_knn,label = 'KNN')\r\n",
        "plt.plot(fpr_tree, tpr_tree,label = 'Decision Tree')\r\n",
        "plt.plot(fpr_rfc, tpr_rfc,label = 'Random Forest')\r\n",
        "plt.plot(fpr_xgb,tpr_xgb,label= 'XGB')\r\n",
        "plt.plot(fpr_nb,tpr_nb,label= 'Naive Bayes')\r\n",
        "plt.plot(fpr_svc,tpr_svc,label= 'Support Vector Classifier')\r\n",
        "plt.xlabel('Tỉ lệ sai')\r\n",
        "plt.ylabel('Tỉ lệ thật')\r\n",
        "plt.legend()\r\n",
        "plt.title('ROC Curve with no GridSearch')\r\n",
        "plt.show()"
      ],
      "execution_count": 36,
      "outputs": [
        {
          "output_type": "display_data",
          "data": {
            "image/png": "[encoded data removed]",
            "text/plain": [
              "<Figure size 432x288 with 1 Axes>"
            ]
          },
          "metadata": {
            "tags": [],
            "needs_background": "light"
          }
        }
      ]
    },
    {
      "cell_type": "markdown",
      "metadata": {
        "id": "mnFpbh5oHVzz"
      },
      "source": [
        "    Grid SearchCV"
      ]
    },
    {
      "cell_type": "markdown",
      "metadata": {
        "id": "8WOiBshDHaVf"
      },
      "source": [
        "    Logistic Regression"
      ]
    },
    {
      "cell_type": "code",
      "metadata": {
        "id": "vFbGYFnVFSVV"
      },
      "source": [
        "param_grid_log = {'penalty': ['l1', 'l2'],\r\n",
        "                  'C': np.logspace(-4, 4, 20),\r\n",
        "                  }\r\n",
        "grid_search_log = GridSearchCV(estimator=log, param_grid=param_grid_log, cv=7, scoring='accuracy', n_jobs=-1)"
      ],
      "execution_count": 37,
      "outputs": []
    },
    {
      "cell_type": "code",
      "metadata": {
        "colab": {
          "base_uri": "https://localhost:8080/"
        },
        "id": "1QuN1hBZIVoP",
        "outputId": "75fea643-be02-4a59-9d14-6a2ffc6a10f3"
      },
      "source": [
        "grid_search_log.fit(X_train, y_train)\r\n",
        "log_params = grid_search_log.best_params_\r\n",
        "print(log_params)"
      ],
      "execution_count": 38,
      "outputs": [
        {
          "output_type": "stream",
          "text": [
            "{'C': 0.23357214690901212, 'penalty': 'l2'}\n"
          ],
          "name": "stdout"
        }
      ]
    },
    {
      "cell_type": "markdown",
      "metadata": {
        "id": "ypJGeuFcMa2d"
      },
      "source": [
        "    tham số C càng cao thị độ chính xác cũng cao theo."
      ]
    },
    {
      "cell_type": "code",
      "metadata": {
        "id": "WshE5UYEJLDX"
      },
      "source": [
        "logreg_grid = LogisticRegression(**log_params)\r\n",
        "logreg_grid.fit(X_train, y_train)\r\n",
        "y_pred_log_grid = logreg_grid.predict(X_test)"
      ],
      "execution_count": 39,
      "outputs": []
    },
    {
      "cell_type": "code",
      "metadata": {
        "id": "-uCltFA7J_9S"
      },
      "source": [
        "lr_f1_score2 = metrics.f1_score(y_test, y_pred_log_grid)\r\n",
        "lr_acc_score2 = metrics.accuracy_score(y_test, y_pred_log_grid)"
      ],
      "execution_count": 40,
      "outputs": []
    },
    {
      "cell_type": "code",
      "metadata": {
        "colab": {
          "base_uri": "https://localhost:8080/"
        },
        "id": "LEkM8wenKRiU",
        "outputId": "16f63239-cf8d-4f1d-ae37-c8c5979af7f2"
      },
      "source": [
        "print('Test Accuracy score:', lr_acc_score2)\r\n",
        "print('Test F1 score:', lr_f1_score2)"
      ],
      "execution_count": 41,
      "outputs": [
        {
          "output_type": "stream",
          "text": [
            "Test Accuracy score: 0.8524590163934426\n",
            "Test F1 score: 0.8732394366197184\n"
          ],
          "name": "stdout"
        }
      ]
    },
    {
      "cell_type": "markdown",
      "metadata": {
        "id": "i7virn4zM_eH"
      },
      "source": [
        "    RandomForest GridSearchCV"
      ]
    },
    {
      "cell_type": "code",
      "metadata": {
        "id": "ujdUFh03M_G3"
      },
      "source": [
        "# setup params\r\n",
        "param_grid_forest = {\r\n",
        "    'criterion' : ['gini', 'entropy'],\r\n",
        "    'max_leaf_nodes' : [50, 60, 70],\r\n",
        "    'max_depth' : [4, 5, 6],\r\n",
        "    'max_features':  ['auto', 'log2']\r\n",
        "}\r\n",
        "\r\n",
        "grid_search_forest = GridSearchCV(estimator=rfc, param_grid=param_grid_forest,\r\n",
        "                                  cv=5, scoring='accuracy')"
      ],
      "execution_count": 43,
      "outputs": []
    },
    {
      "cell_type": "code",
      "metadata": {
        "colab": {
          "base_uri": "https://localhost:8080/"
        },
        "id": "DaVndynocUuJ",
        "outputId": "7437f164-9217-478f-a39e-296ea7cf38e6"
      },
      "source": [
        "grid_search_forest.fit(X_train, y_train)\r\n",
        "forest_params = grid_search_forest.best_params_\r\n",
        "print(forest_params)"
      ],
      "execution_count": 44,
      "outputs": [
        {
          "output_type": "stream",
          "text": [
            "{'criterion': 'entropy', 'max_depth': 6, 'max_features': 'log2', 'max_leaf_nodes': 60}\n"
          ],
          "name": "stdout"
        }
      ]
    },
    {
      "cell_type": "code",
      "metadata": {
        "colab": {
          "base_uri": "https://localhost:8080/"
        },
        "id": "SCUC7L-ichnS",
        "outputId": "66486837-afd8-4537-b367-f95a42c2e82b"
      },
      "source": [
        "forest_grid = RandomForestClassifier(**forest_params)\r\n",
        "forest_grid.fit(X_train, y_train)"
      ],
      "execution_count": 45,
      "outputs": [
        {
          "output_type": "execute_result",
          "data": {
            "text/plain": [
              "RandomForestClassifier(bootstrap=True, ccp_alpha=0.0, class_weight=None,\n",
              "                       criterion='entropy', max_depth=6, max_features='log2',\n",
              "                       max_leaf_nodes=60, max_samples=None,\n",
              "                       min_impurity_decrease=0.0, min_impurity_split=None,\n",
              "                       min_samples_leaf=1, min_samples_split=2,\n",
              "                       min_weight_fraction_leaf=0.0, n_estimators=100,\n",
              "                       n_jobs=None, oob_score=False, random_state=None,\n",
              "                       verbose=0, warm_start=False)"
            ]
          },
          "metadata": {
            "tags": []
          },
          "execution_count": 45
        }
      ]
    },
    {
      "cell_type": "code",
      "metadata": {
        "id": "d3XXoCBydjyF"
      },
      "source": [
        "y_pred_forest_grid = forest_grid.predict(X_test)"
      ],
      "execution_count": 46,
      "outputs": []
    },
    {
      "cell_type": "code",
      "metadata": {
        "id": "L_G0tLWkdrhP"
      },
      "source": [
        "rfc_f1_score2 = metrics.f1_score(y_test, y_pred_forest_grid)\r\n",
        "rfc_acc_score2 = metrics.accuracy_score(y_test, y_pred_forest_grid)"
      ],
      "execution_count": 47,
      "outputs": []
    },
    {
      "cell_type": "code",
      "metadata": {
        "colab": {
          "base_uri": "https://localhost:8080/"
        },
        "id": "L5XQzRr4d7t2",
        "outputId": "cdde6dcc-c518-400f-b5d2-decc5379a1ac"
      },
      "source": [
        "print('Test F1 score:', rfc_f1_score2)\r\n",
        "print('Test Acc score:', rfc_acc_score2)"
      ],
      "execution_count": 48,
      "outputs": [
        {
          "output_type": "stream",
          "text": [
            "Test F1 score: 0.8857142857142858\n",
            "Test Acc score: 0.8688524590163934\n"
          ],
          "name": "stdout"
        }
      ]
    }
  ]
}