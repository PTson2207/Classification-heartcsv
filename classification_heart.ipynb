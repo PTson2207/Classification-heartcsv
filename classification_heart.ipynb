{
  "nbformat": 4,
  "nbformat_minor": 0,
  "metadata": {
    "colab": {
      "name": "classification-heart.ipynb",
      "provenance": [],
      "mount_file_id": "1EfQgL24mT4EOJgqz9kqsj5GLLyv6jACX",
      "authorship_tag": "ABX9TyNbolT/CwUU1dQo379Mf+CJ",
      "include_colab_link": true
    },
    "kernelspec": {
      "name": "python3",
      "display_name": "Python 3"
    }
  },
  "cells": [
    {
      "cell_type": "markdown",
      "metadata": {
        "id": "view-in-github",
        "colab_type": "text"
      },
      "source": [
        "<a href=\"https://colab.research.google.com/github/PTson2207/Classification-heartcsv/blob/main/classification_heart.ipynb\" target=\"_parent\"><img src=\"https://colab.research.google.com/assets/colab-badge.svg\" alt=\"Open In Colab\"/></a>"
      ]
    },
    {
      "cell_type": "code",
      "metadata": {
        "colab": {
          "base_uri": "https://localhost:8080/"
        },
        "id": "5NCikx8mL_IL",
        "outputId": "f5f8302c-497f-4482-a45f-6367f324db36"
      },
      "source": [
        "import pandas as pd\r\n",
        "import numpy as np\r\n",
        "import matplotlib.pyplot as plt\r\n",
        "from collections import Counter\r\n",
        "from sklearn.preprocessing import StandardScaler\r\n",
        "from sklearn.model_selection import train_test_split, cross_val_score, GridSearchCV\r\n",
        "# data modeling\r\n",
        "from sklearn.metrics import confusion_matrix,accuracy_score,roc_curve,roc_auc_score,classification_report,f1_score\r\n",
        "from sklearn.linear_model import LogisticRegression\r\n",
        "from sklearn.naive_bayes import GaussianNB\r\n",
        "from xgboost import XGBClassifier\r\n",
        "from sklearn.ensemble import RandomForestClassifier\r\n",
        "from sklearn.tree import DecisionTreeClassifier\r\n",
        "from sklearn.neighbors import KNeighborsClassifier\r\n",
        "from sklearn.naive_bayes import GaussianNB\r\n",
        "from sklearn.svm import SVC\r\n",
        "#ensembling\r\n",
        "from mlxtend.classifier import StackingCVClassifier\r\n",
        "import xgboost as xgb\r\n",
        "import itertools\r\n",
        "from sklearn.dummy import DummyClassifier\r\n",
        "from sklearn import metrics"
      ],
      "execution_count": 1,
      "outputs": [
        {
          "output_type": "stream",
          "text": [
            "/usr/local/lib/python3.6/dist-packages/sklearn/externals/six.py:31: FutureWarning: The module is deprecated in version 0.21 and will be removed in version 0.23 since we've dropped support for Python 2.7. Please rely on the official version of six (https://pypi.org/project/six/).\n",
            "  \"(https://pypi.org/project/six/).\", FutureWarning)\n"
          ],
          "name": "stderr"
        }
      ]
    },
    {
      "cell_type": "code",
      "metadata": {
        "colab": {
          "base_uri": "https://localhost:8080/",
          "height": 204
        },
        "id": "SqdLuCNaOisp",
        "outputId": "65d35fdf-6f55-4b73-f782-62401d71ae3d"
      },
      "source": [
        "df = pd.read_csv('/content/drive/MyDrive/DataVIZ/DatViz/heart.csv')\r\n",
        "df.head()"
      ],
      "execution_count": 2,
      "outputs": [
        {
          "output_type": "execute_result",
          "data": {
            "text/html": [
              "<div>\n",
              "<style scoped>\n",
              "    .dataframe tbody tr th:only-of-type {\n",
              "        vertical-align: middle;\n",
              "    }\n",
              "\n",
              "    .dataframe tbody tr th {\n",
              "        vertical-align: top;\n",
              "    }\n",
              "\n",
              "    .dataframe thead th {\n",
              "        text-align: right;\n",
              "    }\n",
              "</style>\n",
              "<table border=\"1\" class=\"dataframe\">\n",
              "  <thead>\n",
              "    <tr style=\"text-align: right;\">\n",
              "      <th></th>\n",
              "      <th>age</th>\n",
              "      <th>sex</th>\n",
              "      <th>cp</th>\n",
              "      <th>trestbps</th>\n",
              "      <th>chol</th>\n",
              "      <th>fbs</th>\n",
              "      <th>restecg</th>\n",
              "      <th>thalach</th>\n",
              "      <th>exang</th>\n",
              "      <th>oldpeak</th>\n",
              "      <th>slope</th>\n",
              "      <th>ca</th>\n",
              "      <th>thal</th>\n",
              "      <th>target</th>\n",
              "    </tr>\n",
              "  </thead>\n",
              "  <tbody>\n",
              "    <tr>\n",
              "      <th>0</th>\n",
              "      <td>63</td>\n",
              "      <td>1</td>\n",
              "      <td>3</td>\n",
              "      <td>145</td>\n",
              "      <td>233</td>\n",
              "      <td>1</td>\n",
              "      <td>0</td>\n",
              "      <td>150</td>\n",
              "      <td>0</td>\n",
              "      <td>2.3</td>\n",
              "      <td>0</td>\n",
              "      <td>0</td>\n",
              "      <td>1</td>\n",
              "      <td>1</td>\n",
              "    </tr>\n",
              "    <tr>\n",
              "      <th>1</th>\n",
              "      <td>37</td>\n",
              "      <td>1</td>\n",
              "      <td>2</td>\n",
              "      <td>130</td>\n",
              "      <td>250</td>\n",
              "      <td>0</td>\n",
              "      <td>1</td>\n",
              "      <td>187</td>\n",
              "      <td>0</td>\n",
              "      <td>3.5</td>\n",
              "      <td>0</td>\n",
              "      <td>0</td>\n",
              "      <td>2</td>\n",
              "      <td>1</td>\n",
              "    </tr>\n",
              "    <tr>\n",
              "      <th>2</th>\n",
              "      <td>41</td>\n",
              "      <td>0</td>\n",
              "      <td>1</td>\n",
              "      <td>130</td>\n",
              "      <td>204</td>\n",
              "      <td>0</td>\n",
              "      <td>0</td>\n",
              "      <td>172</td>\n",
              "      <td>0</td>\n",
              "      <td>1.4</td>\n",
              "      <td>2</td>\n",
              "      <td>0</td>\n",
              "      <td>2</td>\n",
              "      <td>1</td>\n",
              "    </tr>\n",
              "    <tr>\n",
              "      <th>3</th>\n",
              "      <td>56</td>\n",
              "      <td>1</td>\n",
              "      <td>1</td>\n",
              "      <td>120</td>\n",
              "      <td>236</td>\n",
              "      <td>0</td>\n",
              "      <td>1</td>\n",
              "      <td>178</td>\n",
              "      <td>0</td>\n",
              "      <td>0.8</td>\n",
              "      <td>2</td>\n",
              "      <td>0</td>\n",
              "      <td>2</td>\n",
              "      <td>1</td>\n",
              "    </tr>\n",
              "    <tr>\n",
              "      <th>4</th>\n",
              "      <td>57</td>\n",
              "      <td>0</td>\n",
              "      <td>0</td>\n",
              "      <td>120</td>\n",
              "      <td>354</td>\n",
              "      <td>0</td>\n",
              "      <td>1</td>\n",
              "      <td>163</td>\n",
              "      <td>1</td>\n",
              "      <td>0.6</td>\n",
              "      <td>2</td>\n",
              "      <td>0</td>\n",
              "      <td>2</td>\n",
              "      <td>1</td>\n",
              "    </tr>\n",
              "  </tbody>\n",
              "</table>\n",
              "</div>"
            ],
            "text/plain": [
              "   age  sex  cp  trestbps  chol  fbs  ...  exang  oldpeak  slope  ca  thal  target\n",
              "0   63    1   3       145   233    1  ...      0      2.3      0   0     1       1\n",
              "1   37    1   2       130   250    0  ...      0      3.5      0   0     2       1\n",
              "2   41    0   1       130   204    0  ...      0      1.4      2   0     2       1\n",
              "3   56    1   1       120   236    0  ...      0      0.8      2   0     2       1\n",
              "4   57    0   0       120   354    0  ...      1      0.6      2   0     2       1\n",
              "\n",
              "[5 rows x 14 columns]"
            ]
          },
          "metadata": {
            "tags": []
          },
          "execution_count": 2
        }
      ]
    },
    {
      "cell_type": "code",
      "metadata": {
        "id": "lDwOjy_JgOAX"
      },
      "source": [
        "y = df.target\r\n",
        "X = df.drop(['target'],axis=1)"
      ],
      "execution_count": 3,
      "outputs": []
    },
    {
      "cell_type": "code",
      "metadata": {
        "id": "jnTJqbqAgYn_"
      },
      "source": [
        "X_train, X_test, y_train, y_test = train_test_split(X, y, random_state=0, test_size=0.2)"
      ],
      "execution_count": 4,
      "outputs": []
    },
    {
      "cell_type": "code",
      "metadata": {
        "id": "P36hRa0ygp3x"
      },
      "source": [
        "scaler = StandardScaler()\r\n",
        "X_train = scaler.fit_transform(X_train)\r\n",
        "X_test = scaler.transform(X_test)"
      ],
      "execution_count": 5,
      "outputs": []
    },
    {
      "cell_type": "code",
      "metadata": {
        "colab": {
          "base_uri": "https://localhost:8080/"
        },
        "id": "0qW9WK9Qg8-4",
        "outputId": "584f4116-84f9-4e3f-b450-28d9216c5f24"
      },
      "source": [
        "X_train"
      ],
      "execution_count": 6,
      "outputs": [
        {
          "output_type": "execute_result",
          "data": {
            "text/plain": [
              "array([[-1.32773282, -1.43641607,  0.98584243, ..., -0.66169316,\n",
              "        -0.70710678, -0.46472917],\n",
              "       [ 1.24903178, -1.43641607,  0.98584243, ..., -0.66169316,\n",
              "         0.26516504, -0.46472917],\n",
              "       [ 0.35276583,  0.69617712,  0.98584243, ...,  0.95577901,\n",
              "        -0.70710678, -0.46472917],\n",
              "       ...,\n",
              "       [ 0.12869935,  0.69617712,  1.94013791, ..., -0.66169316,\n",
              "        -0.70710678,  1.14190596],\n",
              "       [-0.87959984,  0.69617712,  0.98584243, ...,  0.95577901,\n",
              "        -0.70710678, -0.46472917],\n",
              "       [ 0.35276583,  0.69617712,  0.03154696, ..., -0.66169316,\n",
              "        -0.70710678, -0.46472917]])"
            ]
          },
          "metadata": {
            "tags": []
          },
          "execution_count": 6
        }
      ]
    },
    {
      "cell_type": "markdown",
      "metadata": {
        "id": "a1Mbs2PWhM4v"
      },
      "source": [
        "    Baseline Prediction"
      ]
    },
    {
      "cell_type": "code",
      "metadata": {
        "id": "avZZgmFXhPOQ"
      },
      "source": [
        "dummy_clf = DummyClassifier(strategy='stratified')"
      ],
      "execution_count": 7,
      "outputs": []
    },
    {
      "cell_type": "code",
      "metadata": {
        "colab": {
          "base_uri": "https://localhost:8080/"
        },
        "id": "-a7vx-sihdAc",
        "outputId": "63515784-ed5d-41b4-8359-4ed3741472f9"
      },
      "source": [
        "dummy_clf.fit(X_train, y_train)\r\n"
      ],
      "execution_count": 8,
      "outputs": [
        {
          "output_type": "execute_result",
          "data": {
            "text/plain": [
              "DummyClassifier(constant=None, random_state=None, strategy='stratified')"
            ]
          },
          "metadata": {
            "tags": []
          },
          "execution_count": 8
        }
      ]
    },
    {
      "cell_type": "code",
      "metadata": {
        "colab": {
          "base_uri": "https://localhost:8080/"
        },
        "id": "89M7aY3xhnWv",
        "outputId": "221db274-89bf-4390-b9c1-3cabe4c18341"
      },
      "source": [
        "DummyClassifier(strategy='stratified')\r\n",
        "dummy_clf.predict(X_test)\r\n",
        "dummy_clf.score(X_test, y_test)"
      ],
      "execution_count": 9,
      "outputs": [
        {
          "output_type": "execute_result",
          "data": {
            "text/plain": [
              "0.5081967213114754"
            ]
          },
          "metadata": {
            "tags": []
          },
          "execution_count": 9
        }
      ]
    },
    {
      "cell_type": "markdown",
      "metadata": {
        "id": "mlFSAG2xio6O"
      },
      "source": [
        "    Logistic Regression"
      ]
    },
    {
      "cell_type": "code",
      "metadata": {
        "colab": {
          "base_uri": "https://localhost:8080/"
        },
        "id": "zRWNI0bwin0x",
        "outputId": "ea8e89be-0be0-4901-ddf0-8b544f85f0bf"
      },
      "source": [
        "log = LogisticRegression()\r\n",
        "log.fit(X_train, y_train)"
      ],
      "execution_count": 10,
      "outputs": [
        {
          "output_type": "execute_result",
          "data": {
            "text/plain": [
              "LogisticRegression(C=1.0, class_weight=None, dual=False, fit_intercept=True,\n",
              "                   intercept_scaling=1, l1_ratio=None, max_iter=100,\n",
              "                   multi_class='auto', n_jobs=None, penalty='l2',\n",
              "                   random_state=None, solver='lbfgs', tol=0.0001, verbose=0,\n",
              "                   warm_start=False)"
            ]
          },
          "metadata": {
            "tags": []
          },
          "execution_count": 10
        }
      ]
    },
    {
      "cell_type": "code",
      "metadata": {
        "id": "xCTwi02EjtFk"
      },
      "source": [
        "pred = log.predict(X_test)\r\n",
        "acc_score = metrics.accuracy_score(y_test, pred)\r\n",
        "f1_score = metrics.f1_score(y_test, pred)\r\n",
        "conf_matrix = confusion_matrix(y_test, pred)"
      ],
      "execution_count": 11,
      "outputs": []
    },
    {
      "cell_type": "code",
      "metadata": {
        "colab": {
          "base_uri": "https://localhost:8080/"
        },
        "id": "-3o-SlhmkLDy",
        "outputId": "c82acad2-3d8f-4b5c-d0b7-841507ed7ff3"
      },
      "source": [
        "print('Test accuracy score:', acc_score)\r\n",
        "print('Test F1 score:', f1_score)\r\n",
        "print(\"COnfusion Matrix\")\r\n",
        "print(conf_matrix)\r\n",
        "print('\\n')\r\n",
        "print(classification_report(y_test, pred))"
      ],
      "execution_count": 12,
      "outputs": [
        {
          "output_type": "stream",
          "text": [
            "Test accuracy score: 0.8524590163934426\n",
            "Test F1 score: 0.8732394366197184\n",
            "COnfusion Matrix\n",
            "[[21  6]\n",
            " [ 3 31]]\n",
            "\n",
            "\n",
            "              precision    recall  f1-score   support\n",
            "\n",
            "           0       0.88      0.78      0.82        27\n",
            "           1       0.84      0.91      0.87        34\n",
            "\n",
            "    accuracy                           0.85        61\n",
            "   macro avg       0.86      0.84      0.85        61\n",
            "weighted avg       0.85      0.85      0.85        61\n",
            "\n"
          ],
          "name": "stdout"
        }
      ]
    },
    {
      "cell_type": "markdown",
      "metadata": {
        "id": "GNyel-a9qMzr"
      },
      "source": [
        "    KNN"
      ]
    },
    {
      "cell_type": "code",
      "metadata": {
        "colab": {
          "base_uri": "https://localhost:8080/"
        },
        "id": "nzYphQdWqJFt",
        "outputId": "e3d92b23-15e7-4e3b-d548-c331a846f467"
      },
      "source": [
        "knn = KNeighborsClassifier()\r\n",
        "knn.fit(X_train, y_train)"
      ],
      "execution_count": 13,
      "outputs": [
        {
          "output_type": "execute_result",
          "data": {
            "text/plain": [
              "KNeighborsClassifier(algorithm='auto', leaf_size=30, metric='minkowski',\n",
              "                     metric_params=None, n_jobs=None, n_neighbors=5, p=2,\n",
              "                     weights='uniform')"
            ]
          },
          "metadata": {
            "tags": []
          },
          "execution_count": 13
        }
      ]
    },
    {
      "cell_type": "code",
      "metadata": {
        "id": "JG6mEMLIqUtA"
      },
      "source": [
        "knn_pred = knn.predict(X_test)\r\n",
        "knn_score = metrics.accuracy_score(y_test, knn_pred)\r\n",
        "knn_f1_score = metrics.f1_score(y_test, knn_pred)\r\n",
        "knn_conf_matrix = confusion_matrix(y_test, knn_pred)"
      ],
      "execution_count": 14,
      "outputs": []
    },
    {
      "cell_type": "code",
      "metadata": {
        "colab": {
          "base_uri": "https://localhost:8080/"
        },
        "id": "pxUAXtmaqzZ-",
        "outputId": "d790e89e-4744-4e4e-fda3-a35fe1802456"
      },
      "source": [
        "print('Test accuracy score:', knn_score)\r\n",
        "print('Test F1 score:', knn_f1_score)\r\n",
        "print(\"Confusion Matrix\")\r\n",
        "print(knn_conf_matrix)\r\n",
        "print('\\n')\r\n",
        "print(classification_report(y_test, knn_pred))"
      ],
      "execution_count": 15,
      "outputs": [
        {
          "output_type": "stream",
          "text": [
            "Test accuracy score: 0.819672131147541\n",
            "Test F1 score: 0.8405797101449276\n",
            "Confusion Matrix\n",
            "[[21  6]\n",
            " [ 5 29]]\n",
            "\n",
            "\n",
            "              precision    recall  f1-score   support\n",
            "\n",
            "           0       0.81      0.78      0.79        27\n",
            "           1       0.83      0.85      0.84        34\n",
            "\n",
            "    accuracy                           0.82        61\n",
            "   macro avg       0.82      0.82      0.82        61\n",
            "weighted avg       0.82      0.82      0.82        61\n",
            "\n"
          ],
          "name": "stdout"
        }
      ]
    },
    {
      "cell_type": "markdown",
      "metadata": {
        "id": "t-QObpqsNqyM"
      },
      "source": [
        "    DecisionTree Classifier"
      ]
    },
    {
      "cell_type": "code",
      "metadata": {
        "colab": {
          "base_uri": "https://localhost:8080/"
        },
        "id": "m1Fk92USN4uv",
        "outputId": "fcfa83b8-11c9-4dbc-d219-edeeb2532015"
      },
      "source": [
        "tree = DecisionTreeClassifier()\r\n",
        "tree.fit(X_train, y_train)"
      ],
      "execution_count": 16,
      "outputs": [
        {
          "output_type": "execute_result",
          "data": {
            "text/plain": [
              "DecisionTreeClassifier(ccp_alpha=0.0, class_weight=None, criterion='gini',\n",
              "                       max_depth=None, max_features=None, max_leaf_nodes=None,\n",
              "                       min_impurity_decrease=0.0, min_impurity_split=None,\n",
              "                       min_samples_leaf=1, min_samples_split=2,\n",
              "                       min_weight_fraction_leaf=0.0, presort='deprecated',\n",
              "                       random_state=None, splitter='best')"
            ]
          },
          "metadata": {
            "tags": []
          },
          "execution_count": 16
        }
      ]
    },
    {
      "cell_type": "code",
      "metadata": {
        "id": "FUzExW3ROLMI"
      },
      "source": [
        "pred_tree = tree.predict(X_test)\r\n",
        "acc_score_tree = metrics.accuracy_score(y_test, pred_tree)\r\n",
        "f1_score_tree = metrics.f1_score(y_test, pred_tree)\r\n",
        "conf_matrix_tree = confusion_matrix(y_test, pred_tree)"
      ],
      "execution_count": 17,
      "outputs": []
    },
    {
      "cell_type": "code",
      "metadata": {
        "colab": {
          "base_uri": "https://localhost:8080/"
        },
        "id": "sRytb40YOvQ-",
        "outputId": "0a183b8e-f509-4a09-fc07-d0a67ac911fc"
      },
      "source": [
        "print('Test accuracy score:', acc_score_tree)\r\n",
        "print('Test F1 score:', f1_score_tree)\r\n",
        "print('confusion matrix')\r\n",
        "print(conf_matrix_tree)\r\n",
        "print('\\n')\r\n",
        "print(classification_report(y_test, pred_tree))"
      ],
      "execution_count": 18,
      "outputs": [
        {
          "output_type": "stream",
          "text": [
            "Test accuracy score: 0.7377049180327869\n",
            "Test F1 score: 0.7500000000000001\n",
            "confusion matrix\n",
            "[[21  6]\n",
            " [10 24]]\n",
            "\n",
            "\n",
            "              precision    recall  f1-score   support\n",
            "\n",
            "           0       0.68      0.78      0.72        27\n",
            "           1       0.80      0.71      0.75        34\n",
            "\n",
            "    accuracy                           0.74        61\n",
            "   macro avg       0.74      0.74      0.74        61\n",
            "weighted avg       0.75      0.74      0.74        61\n",
            "\n"
          ],
          "name": "stdout"
        }
      ]
    }
  ]
}